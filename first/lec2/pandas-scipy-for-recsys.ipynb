{
 "metadata": {
  "kernelspec": {
   "language": "python",
   "display_name": "Python 3",
   "name": "python3"
  },
  "language_info": {
   "pygments_lexer": "ipython3",
   "nbconvert_exporter": "python",
   "version": "3.6.4",
   "file_extension": ".py",
   "codemirror_mode": {
    "name": "ipython",
    "version": 3
   },
   "name": "python",
   "mimetype": "text/x-python"
  },
  "kaggle": {
   "accelerator": "none",
   "dataSources": [
    {
     "sourceId": 1544602,
     "sourceType": "datasetVersion",
     "datasetId": 911139
    }
   ],
   "dockerImageVersionId": 30019,
   "isInternetEnabled": true,
   "language": "python",
   "sourceType": "notebook",
   "isGpuEnabled": false
  }
 },
 "nbformat_minor": 4,
 "nbformat": 4,
 "cells": [
  {
   "cell_type": "markdown",
   "source": "# Pandas & SciPy for RecSys datasets\n\nВ данном jupyter notebook рассматриваются примеры использования библиотек pandas и scipy при работе с данным для построения рекомендательных систем.\n\n* [Preprocessing](#preprocessing)\n* [Pandas](#pandas)\n    - [СategoryDType](#categorydtype)\n    - [IntegerDType](#integerdtype)\n    - [Sparse Type](#sparse-type)\n* [SciPy.Sparse](#scipy)\n    - [Matrix types](#matrix-types)\n    - [Pandas to matrix](#pandas-to-matrix)\n* [Links](#links)",
   "metadata": {}
  },
  {
   "cell_type": "code",
   "source": [
    "import numpy as np \n",
    "import pandas as pd \n",
    "import scipy.sparse as sp\n",
    "\n",
    "import os\n",
    "for dirname, _, filenames in os.walk('.'):\n",
    "    for filename in filenames:\n",
    "        print(os.path.join(dirname, filename))"
   ],
   "metadata": {
    "_uuid": "8f2839f25d086af736a60e9eeb907d3b93b6e0e5",
    "_cell_guid": "b1076dfc-b9ad-4769-8c92-a6c4dae69d19",
    "trusted": true,
    "_kg_hide-input": true,
    "_kg_hide-output": true,
    "ExecuteTime": {
     "end_time": "2025-03-09T09:47:15.388362Z",
     "start_time": "2025-03-09T09:47:15.381666Z"
    }
   },
   "outputs": [
    {
     "name": "stdout",
     "output_type": "stream",
     "text": [
      "./pandas-scipy-for-recsys.ipynb\n",
      "./notebook25a9e00d96.ipynb\n",
      "./mts-library/interactions.csv\n",
      "./mts-library/users.csv\n",
      "./mts-library/items.csv\n"
     ]
    }
   ],
   "execution_count": 6
  },
  {
   "metadata": {
    "ExecuteTime": {
     "end_time": "2025-03-09T09:46:03.464716Z",
     "start_time": "2025-03-09T09:46:03.461671Z"
    }
   },
   "cell_type": "code",
   "source": "#!pip install scipy\n",
   "outputs": [],
   "execution_count": 4
  },
  {
   "cell_type": "markdown",
   "source": "<a id=\"preprocessing\"></a>\n# Preprocessing\n\nЗагрузим взаимодействия",
   "metadata": {}
  },
  {
   "cell_type": "code",
   "source": [
    "df = pd.read_csv('./mts-library/interactions.csv')\n",
    "df.head()"
   ],
   "metadata": {
    "_uuid": "d629ff2d2480ee46fbb7e2d37f6b5fab8052498a",
    "_cell_guid": "79c7e3d0-c299-4dcb-8224-4455121ee9b0",
    "trusted": true,
    "ExecuteTime": {
     "end_time": "2025-03-09T10:01:38.505706Z",
     "start_time": "2025-03-09T10:01:37.822528Z"
    }
   },
   "outputs": [
    {
     "data": {
      "text/plain": [
       "   user_id  item_id  progress  rating  start_date\n",
       "0   126706    14433        80     NaN  2018-01-01\n",
       "1   127290   140952        58     NaN  2018-01-01\n",
       "2    66991   198453        89     NaN  2018-01-01\n",
       "3    46791    83486        23     5.0  2018-01-01\n",
       "4    79313   188770        88     5.0  2018-01-01"
      ],
      "text/html": [
       "<div>\n",
       "<style scoped>\n",
       "    .dataframe tbody tr th:only-of-type {\n",
       "        vertical-align: middle;\n",
       "    }\n",
       "\n",
       "    .dataframe tbody tr th {\n",
       "        vertical-align: top;\n",
       "    }\n",
       "\n",
       "    .dataframe thead th {\n",
       "        text-align: right;\n",
       "    }\n",
       "</style>\n",
       "<table border=\"1\" class=\"dataframe\">\n",
       "  <thead>\n",
       "    <tr style=\"text-align: right;\">\n",
       "      <th></th>\n",
       "      <th>user_id</th>\n",
       "      <th>item_id</th>\n",
       "      <th>progress</th>\n",
       "      <th>rating</th>\n",
       "      <th>start_date</th>\n",
       "    </tr>\n",
       "  </thead>\n",
       "  <tbody>\n",
       "    <tr>\n",
       "      <th>0</th>\n",
       "      <td>126706</td>\n",
       "      <td>14433</td>\n",
       "      <td>80</td>\n",
       "      <td>NaN</td>\n",
       "      <td>2018-01-01</td>\n",
       "    </tr>\n",
       "    <tr>\n",
       "      <th>1</th>\n",
       "      <td>127290</td>\n",
       "      <td>140952</td>\n",
       "      <td>58</td>\n",
       "      <td>NaN</td>\n",
       "      <td>2018-01-01</td>\n",
       "    </tr>\n",
       "    <tr>\n",
       "      <th>2</th>\n",
       "      <td>66991</td>\n",
       "      <td>198453</td>\n",
       "      <td>89</td>\n",
       "      <td>NaN</td>\n",
       "      <td>2018-01-01</td>\n",
       "    </tr>\n",
       "    <tr>\n",
       "      <th>3</th>\n",
       "      <td>46791</td>\n",
       "      <td>83486</td>\n",
       "      <td>23</td>\n",
       "      <td>5.0</td>\n",
       "      <td>2018-01-01</td>\n",
       "    </tr>\n",
       "    <tr>\n",
       "      <th>4</th>\n",
       "      <td>79313</td>\n",
       "      <td>188770</td>\n",
       "      <td>88</td>\n",
       "      <td>5.0</td>\n",
       "      <td>2018-01-01</td>\n",
       "    </tr>\n",
       "  </tbody>\n",
       "</table>\n",
       "</div>"
      ]
     },
     "execution_count": 68,
     "metadata": {},
     "output_type": "execute_result"
    }
   ],
   "execution_count": 68
  },
  {
   "metadata": {
    "ExecuteTime": {
     "end_time": "2025-03-09T10:01:38.513493Z",
     "start_time": "2025-03-09T10:01:38.508359Z"
    }
   },
   "cell_type": "code",
   "source": "df.shape",
   "outputs": [
    {
     "data": {
      "text/plain": [
       "(1533078, 5)"
      ]
     },
     "execution_count": 69,
     "metadata": {},
     "output_type": "execute_result"
    }
   ],
   "execution_count": 69
  },
  {
   "cell_type": "code",
   "source": "df['start_date'] = pd.to_datetime(df['start_date'])",
   "metadata": {
    "trusted": true,
    "ExecuteTime": {
     "end_time": "2025-03-09T10:01:38.669667Z",
     "start_time": "2025-03-09T10:01:38.515040Z"
    }
   },
   "outputs": [],
   "execution_count": 70
  },
  {
   "cell_type": "code",
   "source": "df.info()",
   "metadata": {
    "trusted": true,
    "ExecuteTime": {
     "end_time": "2025-03-09T10:01:38.698302Z",
     "start_time": "2025-03-09T10:01:38.672354Z"
    }
   },
   "outputs": [
    {
     "name": "stdout",
     "output_type": "stream",
     "text": [
      "<class 'pandas.core.frame.DataFrame'>\n",
      "RangeIndex: 1533078 entries, 0 to 1533077\n",
      "Data columns (total 5 columns):\n",
      " #   Column      Non-Null Count    Dtype         \n",
      "---  ------      --------------    -----         \n",
      " 0   user_id     1533078 non-null  int64         \n",
      " 1   item_id     1533078 non-null  int64         \n",
      " 2   progress    1533078 non-null  int64         \n",
      " 3   rating      285356 non-null   float64       \n",
      " 4   start_date  1533078 non-null  datetime64[ns]\n",
      "dtypes: datetime64[ns](1), float64(1), int64(3)\n",
      "memory usage: 58.5 MB\n"
     ]
    }
   ],
   "execution_count": 71
  },
  {
   "cell_type": "markdown",
   "source": "Проверим данные на дубликаты",
   "metadata": {}
  },
  {
   "cell_type": "code",
   "source": [
    "duplicates = df.duplicated(subset=['user_id', 'item_id'], keep=False)\n",
    "duplicates.sum()"
   ],
   "metadata": {
    "trusted": true,
    "ExecuteTime": {
     "end_time": "2025-03-09T10:01:39.045863Z",
     "start_time": "2025-03-09T10:01:38.821103Z"
    }
   },
   "outputs": [
    {
     "data": {
      "text/plain": [
       "np.int64(160)"
      ]
     },
     "execution_count": 72,
     "metadata": {},
     "output_type": "execute_result"
    }
   ],
   "execution_count": 72
  },
  {
   "cell_type": "code",
   "source": [
    "df_duplicates = df[duplicates].sort_values(by=['user_id', 'start_date'])\n",
    "df = df[~duplicates]"
   ],
   "metadata": {
    "trusted": true,
    "ExecuteTime": {
     "end_time": "2025-03-09T10:01:39.209878Z",
     "start_time": "2025-03-09T10:01:39.136720Z"
    }
   },
   "outputs": [],
   "execution_count": 73
  },
  {
   "metadata": {
    "ExecuteTime": {
     "end_time": "2025-03-09T10:04:35.414801Z",
     "start_time": "2025-03-09T10:04:35.409988Z"
    }
   },
   "cell_type": "code",
   "source": "df_duplicates.shape",
   "outputs": [
    {
     "data": {
      "text/plain": [
       "(80, 3)"
      ]
     },
     "execution_count": 81,
     "metadata": {},
     "output_type": "execute_result"
    }
   ],
   "execution_count": 81
  },
  {
   "metadata": {
    "ExecuteTime": {
     "end_time": "2025-03-09T10:01:39.846138Z",
     "start_time": "2025-03-09T10:01:39.840446Z"
    }
   },
   "cell_type": "code",
   "source": "df.shape",
   "outputs": [
    {
     "data": {
      "text/plain": [
       "(1532918, 5)"
      ]
     },
     "execution_count": 75,
     "metadata": {},
     "output_type": "execute_result"
    }
   ],
   "execution_count": 75
  },
  {
   "cell_type": "code",
   "source": [
    "df_duplicates = df_duplicates.groupby(['user_id', 'item_id']).agg({\n",
    "    'progress': 'max',\n",
    "    'rating': 'max',\n",
    "    'start_date': 'min'\n",
    "})\n",
    "df_duplicates.info()"
   ],
   "metadata": {
    "trusted": true,
    "ExecuteTime": {
     "end_time": "2025-03-09T10:01:40.225700Z",
     "start_time": "2025-03-09T10:01:40.213507Z"
    }
   },
   "outputs": [
    {
     "name": "stdout",
     "output_type": "stream",
     "text": [
      "<class 'pandas.core.frame.DataFrame'>\n",
      "MultiIndex: 80 entries, (np.int64(523), np.int64(49329)) to (np.int64(158041), np.int64(208145))\n",
      "Data columns (total 3 columns):\n",
      " #   Column      Non-Null Count  Dtype         \n",
      "---  ------      --------------  -----         \n",
      " 0   progress    80 non-null     int64         \n",
      " 1   rating      35 non-null     float64       \n",
      " 2   start_date  80 non-null     datetime64[ns]\n",
      "dtypes: datetime64[ns](1), float64(1), int64(1)\n",
      "memory usage: 3.4 KB\n"
     ]
    }
   ],
   "execution_count": 76
  },
  {
   "cell_type": "code",
   "source": [
    "#df = df.append(ddf_duplicates, ignore_index=True)\n",
    "df.info()"
   ],
   "metadata": {
    "trusted": true,
    "ExecuteTime": {
     "end_time": "2025-03-09T10:06:42.462855Z",
     "start_time": "2025-03-09T10:06:42.433529Z"
    }
   },
   "outputs": [
    {
     "name": "stdout",
     "output_type": "stream",
     "text": [
      "<class 'pandas.core.frame.DataFrame'>\n",
      "RangeIndex: 1532998 entries, 0 to 1532997\n",
      "Data columns (total 5 columns):\n",
      " #   Column      Non-Null Count    Dtype         \n",
      "---  ------      --------------    -----         \n",
      " 0   user_id     1532918 non-null  float64       \n",
      " 1   item_id     1532918 non-null  float64       \n",
      " 2   progress    1532998 non-null  int64         \n",
      " 3   rating      285355 non-null   float64       \n",
      " 4   start_date  1532998 non-null  datetime64[ns]\n",
      "dtypes: datetime64[ns](1), float64(3), int64(1)\n",
      "memory usage: 58.5 MB\n"
     ]
    }
   ],
   "execution_count": 84
  },
  {
   "metadata": {
    "ExecuteTime": {
     "end_time": "2025-03-09T10:06:56.134656Z",
     "start_time": "2025-03-09T10:06:56.092987Z"
    }
   },
   "cell_type": "code",
   "source": "df['item_id'].nunique()",
   "outputs": [
    {
     "data": {
      "text/plain": [
       "59599"
      ]
     },
     "execution_count": 85,
     "metadata": {},
     "output_type": "execute_result"
    }
   ],
   "execution_count": 85
  },
  {
   "cell_type": "code",
   "source": "df.nunique()",
   "metadata": {
    "trusted": true
   },
   "outputs": [],
   "execution_count": null
  },
  {
   "cell_type": "markdown",
   "source": "Как видно, у нас 1.5 миллиона строк, но уникальных значений гораздо меньше. \nЭто свойство называется **низкой кардинальностью** и встречается во многих датасетах с \"взаимодействиями\". ",
   "metadata": {}
  },
  {
   "cell_type": "markdown",
   "source": "<a id=\"pandas\"></a>\n# Pandas\n\n\n<a id=\"categorydtype\"></a>\n## CategoryDType\n\n[CategoryDType](https://pandas.pydata.org/pandas-docs/stable/user_guide/categorical.html) - тип в pandas, который позволяет оптимизировать потребление памяти для строковых столбцов и задать логический порядок для значений в них.\n",
   "metadata": {}
  },
  {
   "cell_type": "code",
   "source": "df_cat = pd.DataFrame({'city': ['Moscow', 'London', 'Tokyo', 'Moscow']})\ndf_cat",
   "metadata": {
    "trusted": true,
    "ExecuteTime": {
     "end_time": "2025-03-10T15:56:50.051501Z",
     "start_time": "2025-03-10T15:56:49.910380Z"
    }
   },
   "outputs": [
    {
     "data": {
      "text/plain": [
       "     city\n",
       "0  Moscow\n",
       "1  London\n",
       "2   Tokyo\n",
       "3  Moscow"
      ],
      "text/html": [
       "<div>\n",
       "<style scoped>\n",
       "    .dataframe tbody tr th:only-of-type {\n",
       "        vertical-align: middle;\n",
       "    }\n",
       "\n",
       "    .dataframe tbody tr th {\n",
       "        vertical-align: top;\n",
       "    }\n",
       "\n",
       "    .dataframe thead th {\n",
       "        text-align: right;\n",
       "    }\n",
       "</style>\n",
       "<table border=\"1\" class=\"dataframe\">\n",
       "  <thead>\n",
       "    <tr style=\"text-align: right;\">\n",
       "      <th></th>\n",
       "      <th>city</th>\n",
       "    </tr>\n",
       "  </thead>\n",
       "  <tbody>\n",
       "    <tr>\n",
       "      <th>0</th>\n",
       "      <td>Moscow</td>\n",
       "    </tr>\n",
       "    <tr>\n",
       "      <th>1</th>\n",
       "      <td>London</td>\n",
       "    </tr>\n",
       "    <tr>\n",
       "      <th>2</th>\n",
       "      <td>Tokyo</td>\n",
       "    </tr>\n",
       "    <tr>\n",
       "      <th>3</th>\n",
       "      <td>Moscow</td>\n",
       "    </tr>\n",
       "  </tbody>\n",
       "</table>\n",
       "</div>"
      ]
     },
     "execution_count": 86,
     "metadata": {},
     "output_type": "execute_result"
    }
   ],
   "execution_count": 86
  },
  {
   "cell_type": "code",
   "source": "df_cat['city'] = df_cat['city'].astype('category')\ndf_cat",
   "metadata": {
    "trusted": true,
    "ExecuteTime": {
     "end_time": "2025-03-10T15:56:50.074341Z",
     "start_time": "2025-03-10T15:56:50.054782Z"
    }
   },
   "outputs": [
    {
     "data": {
      "text/plain": [
       "     city\n",
       "0  Moscow\n",
       "1  London\n",
       "2   Tokyo\n",
       "3  Moscow"
      ],
      "text/html": [
       "<div>\n",
       "<style scoped>\n",
       "    .dataframe tbody tr th:only-of-type {\n",
       "        vertical-align: middle;\n",
       "    }\n",
       "\n",
       "    .dataframe tbody tr th {\n",
       "        vertical-align: top;\n",
       "    }\n",
       "\n",
       "    .dataframe thead th {\n",
       "        text-align: right;\n",
       "    }\n",
       "</style>\n",
       "<table border=\"1\" class=\"dataframe\">\n",
       "  <thead>\n",
       "    <tr style=\"text-align: right;\">\n",
       "      <th></th>\n",
       "      <th>city</th>\n",
       "    </tr>\n",
       "  </thead>\n",
       "  <tbody>\n",
       "    <tr>\n",
       "      <th>0</th>\n",
       "      <td>Moscow</td>\n",
       "    </tr>\n",
       "    <tr>\n",
       "      <th>1</th>\n",
       "      <td>London</td>\n",
       "    </tr>\n",
       "    <tr>\n",
       "      <th>2</th>\n",
       "      <td>Tokyo</td>\n",
       "    </tr>\n",
       "    <tr>\n",
       "      <th>3</th>\n",
       "      <td>Moscow</td>\n",
       "    </tr>\n",
       "  </tbody>\n",
       "</table>\n",
       "</div>"
      ]
     },
     "execution_count": 87,
     "metadata": {},
     "output_type": "execute_result"
    }
   ],
   "execution_count": 87
  },
  {
   "cell_type": "code",
   "source": "df_cat['city_codes'] = df_cat['city'].cat.codes\ndf_cat",
   "metadata": {
    "trusted": true,
    "ExecuteTime": {
     "end_time": "2025-03-10T15:56:50.723609Z",
     "start_time": "2025-03-10T15:56:50.706959Z"
    }
   },
   "outputs": [
    {
     "data": {
      "text/plain": [
       "     city  city_codes\n",
       "0  Moscow           1\n",
       "1  London           0\n",
       "2   Tokyo           2\n",
       "3  Moscow           1"
      ],
      "text/html": [
       "<div>\n",
       "<style scoped>\n",
       "    .dataframe tbody tr th:only-of-type {\n",
       "        vertical-align: middle;\n",
       "    }\n",
       "\n",
       "    .dataframe tbody tr th {\n",
       "        vertical-align: top;\n",
       "    }\n",
       "\n",
       "    .dataframe thead th {\n",
       "        text-align: right;\n",
       "    }\n",
       "</style>\n",
       "<table border=\"1\" class=\"dataframe\">\n",
       "  <thead>\n",
       "    <tr style=\"text-align: right;\">\n",
       "      <th></th>\n",
       "      <th>city</th>\n",
       "      <th>city_codes</th>\n",
       "    </tr>\n",
       "  </thead>\n",
       "  <tbody>\n",
       "    <tr>\n",
       "      <th>0</th>\n",
       "      <td>Moscow</td>\n",
       "      <td>1</td>\n",
       "    </tr>\n",
       "    <tr>\n",
       "      <th>1</th>\n",
       "      <td>London</td>\n",
       "      <td>0</td>\n",
       "    </tr>\n",
       "    <tr>\n",
       "      <th>2</th>\n",
       "      <td>Tokyo</td>\n",
       "      <td>2</td>\n",
       "    </tr>\n",
       "    <tr>\n",
       "      <th>3</th>\n",
       "      <td>Moscow</td>\n",
       "      <td>1</td>\n",
       "    </tr>\n",
       "  </tbody>\n",
       "</table>\n",
       "</div>"
      ]
     },
     "execution_count": 88,
     "metadata": {},
     "output_type": "execute_result"
    }
   ],
   "execution_count": 88
  },
  {
   "cell_type": "code",
   "source": "mapping = dict(enumerate(df_cat['city'].cat.categories))\nmapping",
   "metadata": {
    "trusted": true,
    "ExecuteTime": {
     "end_time": "2025-03-10T15:57:02.879142Z",
     "start_time": "2025-03-10T15:57:02.873740Z"
    }
   },
   "outputs": [
    {
     "data": {
      "text/plain": [
       "{0: 'London', 1: 'Moscow', 2: 'Tokyo'}"
      ]
     },
     "execution_count": 89,
     "metadata": {},
     "output_type": "execute_result"
    }
   ],
   "execution_count": 89
  },
  {
   "cell_type": "markdown",
   "source": "Рассмотрим то, как такая конвертация типов может экономить память.",
   "metadata": {}
  },
  {
   "cell_type": "code",
   "source": "df_user_item = df[['user_id', 'item_id']].copy()",
   "metadata": {
    "trusted": true,
    "ExecuteTime": {
     "end_time": "2025-03-10T15:57:38.453793Z",
     "start_time": "2025-03-10T15:57:38.312356Z"
    }
   },
   "outputs": [],
   "execution_count": 90
  },
  {
   "cell_type": "code",
   "source": "def num_bytes_format(num_bytes, float_prec=4):\n    units = ['bytes', 'Kb', 'Mb', 'Gb', 'Tb', 'Pb', 'Eb']\n    for unit in units[:-1]:\n        if abs(num_bytes) < 1000:\n            return f'{num_bytes:.{float_prec}f} {unit}'\n        num_bytes /= 1000\n    return f'{num_bytes:.4f} {units[-1]}'",
   "metadata": {
    "trusted": true,
    "ExecuteTime": {
     "end_time": "2025-03-10T15:57:38.777719Z",
     "start_time": "2025-03-10T15:57:38.772708Z"
    }
   },
   "outputs": [],
   "execution_count": 91
  },
  {
   "cell_type": "code",
   "source": "num_bytes_ints = df_user_item.memory_usage(deep=True).sum()\nnum_bytes_format(num_bytes_ints)",
   "metadata": {
    "trusted": true,
    "ExecuteTime": {
     "end_time": "2025-03-10T15:57:43.027015Z",
     "start_time": "2025-03-10T15:57:43.019860Z"
    }
   },
   "outputs": [
    {
     "data": {
      "text/plain": [
       "'24.5281 Mb'"
      ]
     },
     "execution_count": 92,
     "metadata": {},
     "output_type": "execute_result"
    }
   ],
   "execution_count": 92
  },
  {
   "cell_type": "code",
   "source": "df_user_item = df_user_item.astype('string')\nnum_bytes_str = df_user_item.memory_usage(deep=True).sum()\nnum_bytes_format(num_bytes_str)",
   "metadata": {
    "trusted": true,
    "ExecuteTime": {
     "end_time": "2025-03-10T15:57:53.286260Z",
     "start_time": "2025-03-10T15:57:50.879676Z"
    }
   },
   "outputs": [
    {
     "data": {
      "text/plain": [
       "'197.6925 Mb'"
      ]
     },
     "execution_count": 93,
     "metadata": {},
     "output_type": "execute_result"
    }
   ],
   "execution_count": 93
  },
  {
   "cell_type": "code",
   "source": "df_user_item = df_user_item.astype('category')\nnum_bytes_cat = df_user_item.memory_usage(deep=True).sum()\nnum_bytes_format(num_bytes_cat)",
   "metadata": {
    "trusted": true,
    "ExecuteTime": {
     "end_time": "2025-03-10T15:57:55.025029Z",
     "start_time": "2025-03-10T15:57:53.288093Z"
    }
   },
   "outputs": [
    {
     "data": {
      "text/plain": [
       "'32.2067 Mb'"
      ]
     },
     "execution_count": 94,
     "metadata": {},
     "output_type": "execute_result"
    }
   ],
   "execution_count": 94
  },
  {
   "cell_type": "code",
   "source": "print(f'Экономия category относительно string: {(1 - num_bytes_cat / num_bytes_str) * 100:.2f}%')\nprint(f'Экономия ints относительно category: {(1 - num_bytes_ints / num_bytes_cat) * 100:.2f}%')",
   "metadata": {
    "trusted": true,
    "ExecuteTime": {
     "end_time": "2025-03-10T15:59:37.814949Z",
     "start_time": "2025-03-10T15:59:37.810193Z"
    }
   },
   "outputs": [
    {
     "name": "stdout",
     "output_type": "stream",
     "text": [
      "Экономия category относительно string: 83.71%\n",
      "Экономия ints относительно category: 23.84%\n"
     ]
    }
   ],
   "execution_count": 95
  },
  {
   "cell_type": "code",
   "source": "df_user_item = df_user_item.astype(np.int64).astype('category')\nnum_bytes_int_cat = df_user_item.memory_usage(deep=True).sum()\nnum_bytes_format(num_bytes_int_cat)",
   "metadata": {
    "trusted": true,
    "ExecuteTime": {
     "end_time": "2025-03-10T15:59:47.131554Z",
     "start_time": "2025-03-10T15:59:46.585560Z"
    }
   },
   "outputs": [
    {
     "ename": "ValueError",
     "evalue": "Cannot convert float NaN to integer",
     "output_type": "error",
     "traceback": [
      "\u001B[0;31m---------------------------------------------------------------------------\u001B[0m",
      "\u001B[0;31mValueError\u001B[0m                                Traceback (most recent call last)",
      "Cell \u001B[0;32mIn[96], line 1\u001B[0m\n\u001B[0;32m----> 1\u001B[0m df_user_item \u001B[38;5;241m=\u001B[39m \u001B[43mdf_user_item\u001B[49m\u001B[38;5;241;43m.\u001B[39;49m\u001B[43mastype\u001B[49m\u001B[43m(\u001B[49m\u001B[43mnp\u001B[49m\u001B[38;5;241;43m.\u001B[39;49m\u001B[43mint64\u001B[49m\u001B[43m)\u001B[49m\u001B[38;5;241m.\u001B[39mastype(\u001B[38;5;124m'\u001B[39m\u001B[38;5;124mcategory\u001B[39m\u001B[38;5;124m'\u001B[39m)\n\u001B[1;32m      2\u001B[0m num_bytes_int_cat \u001B[38;5;241m=\u001B[39m df_user_item\u001B[38;5;241m.\u001B[39mmemory_usage(deep\u001B[38;5;241m=\u001B[39m\u001B[38;5;28;01mTrue\u001B[39;00m)\u001B[38;5;241m.\u001B[39msum()\n\u001B[1;32m      3\u001B[0m num_bytes_format(num_bytes_int_cat)\n",
      "File \u001B[0;32m~/PycharmProjects/MTSRecSys/.venv/lib/python3.9/site-packages/pandas/core/generic.py:6643\u001B[0m, in \u001B[0;36mNDFrame.astype\u001B[0;34m(self, dtype, copy, errors)\u001B[0m\n\u001B[1;32m   6637\u001B[0m     results \u001B[38;5;241m=\u001B[39m [\n\u001B[1;32m   6638\u001B[0m         ser\u001B[38;5;241m.\u001B[39mastype(dtype, copy\u001B[38;5;241m=\u001B[39mcopy, errors\u001B[38;5;241m=\u001B[39merrors) \u001B[38;5;28;01mfor\u001B[39;00m _, ser \u001B[38;5;129;01min\u001B[39;00m \u001B[38;5;28mself\u001B[39m\u001B[38;5;241m.\u001B[39mitems()\n\u001B[1;32m   6639\u001B[0m     ]\n\u001B[1;32m   6641\u001B[0m \u001B[38;5;28;01melse\u001B[39;00m:\n\u001B[1;32m   6642\u001B[0m     \u001B[38;5;66;03m# else, only a single dtype is given\u001B[39;00m\n\u001B[0;32m-> 6643\u001B[0m     new_data \u001B[38;5;241m=\u001B[39m \u001B[38;5;28;43mself\u001B[39;49m\u001B[38;5;241;43m.\u001B[39;49m\u001B[43m_mgr\u001B[49m\u001B[38;5;241;43m.\u001B[39;49m\u001B[43mastype\u001B[49m\u001B[43m(\u001B[49m\u001B[43mdtype\u001B[49m\u001B[38;5;241;43m=\u001B[39;49m\u001B[43mdtype\u001B[49m\u001B[43m,\u001B[49m\u001B[43m \u001B[49m\u001B[43mcopy\u001B[49m\u001B[38;5;241;43m=\u001B[39;49m\u001B[43mcopy\u001B[49m\u001B[43m,\u001B[49m\u001B[43m \u001B[49m\u001B[43merrors\u001B[49m\u001B[38;5;241;43m=\u001B[39;49m\u001B[43merrors\u001B[49m\u001B[43m)\u001B[49m\n\u001B[1;32m   6644\u001B[0m     res \u001B[38;5;241m=\u001B[39m \u001B[38;5;28mself\u001B[39m\u001B[38;5;241m.\u001B[39m_constructor_from_mgr(new_data, axes\u001B[38;5;241m=\u001B[39mnew_data\u001B[38;5;241m.\u001B[39maxes)\n\u001B[1;32m   6645\u001B[0m     \u001B[38;5;28;01mreturn\u001B[39;00m res\u001B[38;5;241m.\u001B[39m__finalize__(\u001B[38;5;28mself\u001B[39m, method\u001B[38;5;241m=\u001B[39m\u001B[38;5;124m\"\u001B[39m\u001B[38;5;124mastype\u001B[39m\u001B[38;5;124m\"\u001B[39m)\n",
      "File \u001B[0;32m~/PycharmProjects/MTSRecSys/.venv/lib/python3.9/site-packages/pandas/core/internals/managers.py:430\u001B[0m, in \u001B[0;36mBaseBlockManager.astype\u001B[0;34m(self, dtype, copy, errors)\u001B[0m\n\u001B[1;32m    427\u001B[0m \u001B[38;5;28;01melif\u001B[39;00m using_copy_on_write():\n\u001B[1;32m    428\u001B[0m     copy \u001B[38;5;241m=\u001B[39m \u001B[38;5;28;01mFalse\u001B[39;00m\n\u001B[0;32m--> 430\u001B[0m \u001B[38;5;28;01mreturn\u001B[39;00m \u001B[38;5;28;43mself\u001B[39;49m\u001B[38;5;241;43m.\u001B[39;49m\u001B[43mapply\u001B[49m\u001B[43m(\u001B[49m\n\u001B[1;32m    431\u001B[0m \u001B[43m    \u001B[49m\u001B[38;5;124;43m\"\u001B[39;49m\u001B[38;5;124;43mastype\u001B[39;49m\u001B[38;5;124;43m\"\u001B[39;49m\u001B[43m,\u001B[49m\n\u001B[1;32m    432\u001B[0m \u001B[43m    \u001B[49m\u001B[43mdtype\u001B[49m\u001B[38;5;241;43m=\u001B[39;49m\u001B[43mdtype\u001B[49m\u001B[43m,\u001B[49m\n\u001B[1;32m    433\u001B[0m \u001B[43m    \u001B[49m\u001B[43mcopy\u001B[49m\u001B[38;5;241;43m=\u001B[39;49m\u001B[43mcopy\u001B[49m\u001B[43m,\u001B[49m\n\u001B[1;32m    434\u001B[0m \u001B[43m    \u001B[49m\u001B[43merrors\u001B[49m\u001B[38;5;241;43m=\u001B[39;49m\u001B[43merrors\u001B[49m\u001B[43m,\u001B[49m\n\u001B[1;32m    435\u001B[0m \u001B[43m    \u001B[49m\u001B[43musing_cow\u001B[49m\u001B[38;5;241;43m=\u001B[39;49m\u001B[43musing_copy_on_write\u001B[49m\u001B[43m(\u001B[49m\u001B[43m)\u001B[49m\u001B[43m,\u001B[49m\n\u001B[1;32m    436\u001B[0m \u001B[43m\u001B[49m\u001B[43m)\u001B[49m\n",
      "File \u001B[0;32m~/PycharmProjects/MTSRecSys/.venv/lib/python3.9/site-packages/pandas/core/internals/managers.py:363\u001B[0m, in \u001B[0;36mBaseBlockManager.apply\u001B[0;34m(self, f, align_keys, **kwargs)\u001B[0m\n\u001B[1;32m    361\u001B[0m         applied \u001B[38;5;241m=\u001B[39m b\u001B[38;5;241m.\u001B[39mapply(f, \u001B[38;5;241m*\u001B[39m\u001B[38;5;241m*\u001B[39mkwargs)\n\u001B[1;32m    362\u001B[0m     \u001B[38;5;28;01melse\u001B[39;00m:\n\u001B[0;32m--> 363\u001B[0m         applied \u001B[38;5;241m=\u001B[39m \u001B[38;5;28;43mgetattr\u001B[39;49m\u001B[43m(\u001B[49m\u001B[43mb\u001B[49m\u001B[43m,\u001B[49m\u001B[43m \u001B[49m\u001B[43mf\u001B[49m\u001B[43m)\u001B[49m\u001B[43m(\u001B[49m\u001B[38;5;241;43m*\u001B[39;49m\u001B[38;5;241;43m*\u001B[39;49m\u001B[43mkwargs\u001B[49m\u001B[43m)\u001B[49m\n\u001B[1;32m    364\u001B[0m     result_blocks \u001B[38;5;241m=\u001B[39m extend_blocks(applied, result_blocks)\n\u001B[1;32m    366\u001B[0m out \u001B[38;5;241m=\u001B[39m \u001B[38;5;28mtype\u001B[39m(\u001B[38;5;28mself\u001B[39m)\u001B[38;5;241m.\u001B[39mfrom_blocks(result_blocks, \u001B[38;5;28mself\u001B[39m\u001B[38;5;241m.\u001B[39maxes)\n",
      "File \u001B[0;32m~/PycharmProjects/MTSRecSys/.venv/lib/python3.9/site-packages/pandas/core/internals/blocks.py:758\u001B[0m, in \u001B[0;36mBlock.astype\u001B[0;34m(self, dtype, copy, errors, using_cow, squeeze)\u001B[0m\n\u001B[1;32m    755\u001B[0m         \u001B[38;5;28;01mraise\u001B[39;00m \u001B[38;5;167;01mValueError\u001B[39;00m(\u001B[38;5;124m\"\u001B[39m\u001B[38;5;124mCan not squeeze with more than one column.\u001B[39m\u001B[38;5;124m\"\u001B[39m)\n\u001B[1;32m    756\u001B[0m     values \u001B[38;5;241m=\u001B[39m values[\u001B[38;5;241m0\u001B[39m, :]  \u001B[38;5;66;03m# type: ignore[call-overload]\u001B[39;00m\n\u001B[0;32m--> 758\u001B[0m new_values \u001B[38;5;241m=\u001B[39m \u001B[43mastype_array_safe\u001B[49m\u001B[43m(\u001B[49m\u001B[43mvalues\u001B[49m\u001B[43m,\u001B[49m\u001B[43m \u001B[49m\u001B[43mdtype\u001B[49m\u001B[43m,\u001B[49m\u001B[43m \u001B[49m\u001B[43mcopy\u001B[49m\u001B[38;5;241;43m=\u001B[39;49m\u001B[43mcopy\u001B[49m\u001B[43m,\u001B[49m\u001B[43m \u001B[49m\u001B[43merrors\u001B[49m\u001B[38;5;241;43m=\u001B[39;49m\u001B[43merrors\u001B[49m\u001B[43m)\u001B[49m\n\u001B[1;32m    760\u001B[0m new_values \u001B[38;5;241m=\u001B[39m maybe_coerce_values(new_values)\n\u001B[1;32m    762\u001B[0m refs \u001B[38;5;241m=\u001B[39m \u001B[38;5;28;01mNone\u001B[39;00m\n",
      "File \u001B[0;32m~/PycharmProjects/MTSRecSys/.venv/lib/python3.9/site-packages/pandas/core/dtypes/astype.py:237\u001B[0m, in \u001B[0;36mastype_array_safe\u001B[0;34m(values, dtype, copy, errors)\u001B[0m\n\u001B[1;32m    234\u001B[0m     dtype \u001B[38;5;241m=\u001B[39m dtype\u001B[38;5;241m.\u001B[39mnumpy_dtype\n\u001B[1;32m    236\u001B[0m \u001B[38;5;28;01mtry\u001B[39;00m:\n\u001B[0;32m--> 237\u001B[0m     new_values \u001B[38;5;241m=\u001B[39m \u001B[43mastype_array\u001B[49m\u001B[43m(\u001B[49m\u001B[43mvalues\u001B[49m\u001B[43m,\u001B[49m\u001B[43m \u001B[49m\u001B[43mdtype\u001B[49m\u001B[43m,\u001B[49m\u001B[43m \u001B[49m\u001B[43mcopy\u001B[49m\u001B[38;5;241;43m=\u001B[39;49m\u001B[43mcopy\u001B[49m\u001B[43m)\u001B[49m\n\u001B[1;32m    238\u001B[0m \u001B[38;5;28;01mexcept\u001B[39;00m (\u001B[38;5;167;01mValueError\u001B[39;00m, \u001B[38;5;167;01mTypeError\u001B[39;00m):\n\u001B[1;32m    239\u001B[0m     \u001B[38;5;66;03m# e.g. _astype_nansafe can fail on object-dtype of strings\u001B[39;00m\n\u001B[1;32m    240\u001B[0m     \u001B[38;5;66;03m#  trying to convert to float\u001B[39;00m\n\u001B[1;32m    241\u001B[0m     \u001B[38;5;28;01mif\u001B[39;00m errors \u001B[38;5;241m==\u001B[39m \u001B[38;5;124m\"\u001B[39m\u001B[38;5;124mignore\u001B[39m\u001B[38;5;124m\"\u001B[39m:\n",
      "File \u001B[0;32m~/PycharmProjects/MTSRecSys/.venv/lib/python3.9/site-packages/pandas/core/dtypes/astype.py:179\u001B[0m, in \u001B[0;36mastype_array\u001B[0;34m(values, dtype, copy)\u001B[0m\n\u001B[1;32m    175\u001B[0m     \u001B[38;5;28;01mreturn\u001B[39;00m values\n\u001B[1;32m    177\u001B[0m \u001B[38;5;28;01mif\u001B[39;00m \u001B[38;5;129;01mnot\u001B[39;00m \u001B[38;5;28misinstance\u001B[39m(values, np\u001B[38;5;241m.\u001B[39mndarray):\n\u001B[1;32m    178\u001B[0m     \u001B[38;5;66;03m# i.e. ExtensionArray\u001B[39;00m\n\u001B[0;32m--> 179\u001B[0m     values \u001B[38;5;241m=\u001B[39m \u001B[43mvalues\u001B[49m\u001B[38;5;241;43m.\u001B[39;49m\u001B[43mastype\u001B[49m\u001B[43m(\u001B[49m\u001B[43mdtype\u001B[49m\u001B[43m,\u001B[49m\u001B[43m \u001B[49m\u001B[43mcopy\u001B[49m\u001B[38;5;241;43m=\u001B[39;49m\u001B[43mcopy\u001B[49m\u001B[43m)\u001B[49m\n\u001B[1;32m    181\u001B[0m \u001B[38;5;28;01melse\u001B[39;00m:\n\u001B[1;32m    182\u001B[0m     values \u001B[38;5;241m=\u001B[39m _astype_nansafe(values, dtype, copy\u001B[38;5;241m=\u001B[39mcopy)\n",
      "File \u001B[0;32m~/PycharmProjects/MTSRecSys/.venv/lib/python3.9/site-packages/pandas/core/arrays/categorical.py:577\u001B[0m, in \u001B[0;36mCategorical.astype\u001B[0;34m(self, dtype, copy)\u001B[0m\n\u001B[1;32m    574\u001B[0m     \u001B[38;5;28;01mreturn\u001B[39;00m \u001B[38;5;28msuper\u001B[39m()\u001B[38;5;241m.\u001B[39mastype(dtype, copy\u001B[38;5;241m=\u001B[39mcopy)\n\u001B[1;32m    576\u001B[0m \u001B[38;5;28;01melif\u001B[39;00m dtype\u001B[38;5;241m.\u001B[39mkind \u001B[38;5;129;01min\u001B[39;00m \u001B[38;5;124m\"\u001B[39m\u001B[38;5;124miu\u001B[39m\u001B[38;5;124m\"\u001B[39m \u001B[38;5;129;01mand\u001B[39;00m \u001B[38;5;28mself\u001B[39m\u001B[38;5;241m.\u001B[39misna()\u001B[38;5;241m.\u001B[39many():\n\u001B[0;32m--> 577\u001B[0m     \u001B[38;5;28;01mraise\u001B[39;00m \u001B[38;5;167;01mValueError\u001B[39;00m(\u001B[38;5;124m\"\u001B[39m\u001B[38;5;124mCannot convert float NaN to integer\u001B[39m\u001B[38;5;124m\"\u001B[39m)\n\u001B[1;32m    579\u001B[0m \u001B[38;5;28;01melif\u001B[39;00m \u001B[38;5;28mlen\u001B[39m(\u001B[38;5;28mself\u001B[39m\u001B[38;5;241m.\u001B[39mcodes) \u001B[38;5;241m==\u001B[39m \u001B[38;5;241m0\u001B[39m \u001B[38;5;129;01mor\u001B[39;00m \u001B[38;5;28mlen\u001B[39m(\u001B[38;5;28mself\u001B[39m\u001B[38;5;241m.\u001B[39mcategories) \u001B[38;5;241m==\u001B[39m \u001B[38;5;241m0\u001B[39m:\n\u001B[1;32m    580\u001B[0m     result \u001B[38;5;241m=\u001B[39m np\u001B[38;5;241m.\u001B[39marray(\n\u001B[1;32m    581\u001B[0m         \u001B[38;5;28mself\u001B[39m,\n\u001B[1;32m    582\u001B[0m         dtype\u001B[38;5;241m=\u001B[39mdtype,\n\u001B[1;32m    583\u001B[0m         copy\u001B[38;5;241m=\u001B[39mcopy,\n\u001B[1;32m    584\u001B[0m     )\n",
      "\u001B[0;31mValueError\u001B[0m: Cannot convert float NaN to integer"
     ]
    }
   ],
   "execution_count": 96
  },
  {
   "cell_type": "code",
   "source": "print(f'Экономия category on int64 относительно category on string: {(1 - num_bytes_int_cat / num_bytes_cat) * 100:.2f}%')",
   "metadata": {
    "trusted": true,
    "ExecuteTime": {
     "end_time": "2025-03-10T15:59:48.674697Z",
     "start_time": "2025-03-10T15:59:48.653309Z"
    }
   },
   "outputs": [
    {
     "ename": "NameError",
     "evalue": "name 'num_bytes_int_cat' is not defined",
     "output_type": "error",
     "traceback": [
      "\u001B[0;31m---------------------------------------------------------------------------\u001B[0m",
      "\u001B[0;31mNameError\u001B[0m                                 Traceback (most recent call last)",
      "Cell \u001B[0;32mIn[97], line 1\u001B[0m\n\u001B[0;32m----> 1\u001B[0m \u001B[38;5;28mprint\u001B[39m(\u001B[38;5;124mf\u001B[39m\u001B[38;5;124m'\u001B[39m\u001B[38;5;124mЭкономия category on int64 относительно category on string: \u001B[39m\u001B[38;5;132;01m{\u001B[39;00m(\u001B[38;5;241m1\u001B[39m\u001B[38;5;250m \u001B[39m\u001B[38;5;241m-\u001B[39m\u001B[38;5;250m \u001B[39mnum_bytes_int_cat\u001B[38;5;250m \u001B[39m\u001B[38;5;241m/\u001B[39m\u001B[38;5;250m \u001B[39mnum_bytes_cat)\u001B[38;5;250m \u001B[39m\u001B[38;5;241m*\u001B[39m\u001B[38;5;250m \u001B[39m\u001B[38;5;241m100\u001B[39m\u001B[38;5;132;01m:\u001B[39;00m\u001B[38;5;124m.2f\u001B[39m\u001B[38;5;132;01m}\u001B[39;00m\u001B[38;5;124m%\u001B[39m\u001B[38;5;124m'\u001B[39m)\n",
      "\u001B[0;31mNameError\u001B[0m: name 'num_bytes_int_cat' is not defined"
     ]
    }
   ],
   "execution_count": 97
  },
  {
   "cell_type": "code",
   "source": "df_user_item['user_id'].cat.codes.dtype",
   "metadata": {
    "trusted": true,
    "ExecuteTime": {
     "end_time": "2025-03-10T16:00:01.207549Z",
     "start_time": "2025-03-10T16:00:01.202201Z"
    }
   },
   "outputs": [
    {
     "data": {
      "text/plain": [
       "dtype('int32')"
      ]
     },
     "execution_count": 98,
     "metadata": {},
     "output_type": "execute_result"
    }
   ],
   "execution_count": 98
  },
  {
   "cell_type": "markdown",
   "source": "<a id=\"integerdtype\"></a>\n## IntegerDType\n\n[IntegerDType](https://pandas.pydata.org/pandas-docs/stable/user_guide/integer_na.html) - группа типов в pandas, который позволяет целочисленным столбцам содержать пропущенные значения. \n\nДля классического целочисленного типа есть свой \"двойник\". Отличаются только первыми заглавными буквами, например:\n* numpy.int32 - pd.Int32DType\n* numpy.uint32 - pd.UInt64DType\n\n\nЭтот тип стоит использовать только для экономии памяти при хранении датафрейма или при простых операциях на ним. Большинство библиотек этот тип в данный момент не поддерживают.",
   "metadata": {}
  },
  {
   "cell_type": "code",
   "source": "ratings = df['rating'].astype(np.float32).copy()",
   "metadata": {
    "trusted": true,
    "ExecuteTime": {
     "end_time": "2025-03-10T16:00:28.324195Z",
     "start_time": "2025-03-10T16:00:28.272067Z"
    }
   },
   "outputs": [],
   "execution_count": 99
  },
  {
   "cell_type": "code",
   "source": "num_bytes_float = ratings.memory_usage(deep=True)\nnum_bytes_format(num_bytes_float)",
   "metadata": {
    "trusted": true,
    "ExecuteTime": {
     "end_time": "2025-03-10T16:00:56.720158Z",
     "start_time": "2025-03-10T16:00:56.714387Z"
    }
   },
   "outputs": [
    {
     "data": {
      "text/plain": [
       "'6.1321 Mb'"
      ]
     },
     "execution_count": 100,
     "metadata": {},
     "output_type": "execute_result"
    }
   ],
   "execution_count": 100
  },
  {
   "cell_type": "code",
   "source": "ratings = ratings.astype(pd.Int32Dtype())\nnum_bytes_Int32 = ratings.memory_usage(deep=True)\nnum_bytes_format(num_bytes_Int32)",
   "metadata": {
    "trusted": true,
    "ExecuteTime": {
     "end_time": "2025-03-10T16:00:57.370953Z",
     "start_time": "2025-03-10T16:00:57.105307Z"
    }
   },
   "outputs": [
    {
     "data": {
      "text/plain": [
       "'7.6651 Mb'"
      ]
     },
     "execution_count": 101,
     "metadata": {},
     "output_type": "execute_result"
    }
   ],
   "execution_count": 101
  },
  {
   "cell_type": "code",
   "source": "ratings = ratings.astype(pd.Int8Dtype())\nnum_bytes_Int8 = ratings.memory_usage(deep=True)\nnum_bytes_format(num_bytes_Int8)",
   "metadata": {
    "trusted": true,
    "ExecuteTime": {
     "end_time": "2025-03-10T16:00:59.965957Z",
     "start_time": "2025-03-10T16:00:59.958987Z"
    }
   },
   "outputs": [
    {
     "data": {
      "text/plain": [
       "'3.0661 Mb'"
      ]
     },
     "execution_count": 102,
     "metadata": {},
     "output_type": "execute_result"
    }
   ],
   "execution_count": 102
  },
  {
   "cell_type": "code",
   "source": "ratings",
   "metadata": {
    "trusted": true,
    "ExecuteTime": {
     "end_time": "2025-03-10T16:01:06.869139Z",
     "start_time": "2025-03-10T16:01:06.860635Z"
    }
   },
   "outputs": [
    {
     "data": {
      "text/plain": [
       "0          <NA>\n",
       "1          <NA>\n",
       "2          <NA>\n",
       "3             5\n",
       "4             5\n",
       "           ... \n",
       "1532993    <NA>\n",
       "1532994    <NA>\n",
       "1532995       5\n",
       "1532996       5\n",
       "1532997       4\n",
       "Name: rating, Length: 1532998, dtype: Int8"
      ]
     },
     "execution_count": 103,
     "metadata": {},
     "output_type": "execute_result"
    }
   ],
   "execution_count": 103
  },
  {
   "cell_type": "code",
   "source": "print(f'Экономия Int8DType относительно float64: {(1 - num_bytes_Int8 / num_bytes_float) * 100:.2f}%')",
   "metadata": {
    "trusted": true,
    "ExecuteTime": {
     "end_time": "2025-03-10T16:01:08.414427Z",
     "start_time": "2025-03-10T16:01:08.410566Z"
    }
   },
   "outputs": [
    {
     "name": "stdout",
     "output_type": "stream",
     "text": [
      "Экономия Int8DType относительно float64: 50.00%\n"
     ]
    }
   ],
   "execution_count": 104
  },
  {
   "cell_type": "markdown",
   "source": "<a id=\"sparse-type\"></a>\n## Sparse Type\n\n[Sparse Type](https://pandas.pydata.org/pandas-docs/stable/user_guide/sparse.html) - тип данных в pandas для работы с разреженными данными.\n\nИдея проста - храним только \"известные\" значения, остальное не храним и имитируем константой.\n\nСам тип создается на основе двух значений:\n* dtype - тип сохраняемых значений\n* fill_value - константа для пропущенных значений",
   "metadata": {}
  },
  {
   "cell_type": "code",
   "source": "sparse_type = pd.SparseDtype(np.float32, np.nan)\nratings = ratings.astype(np.float32).astype(sparse_type)",
   "metadata": {
    "trusted": true,
    "ExecuteTime": {
     "end_time": "2025-03-10T16:01:48.921603Z",
     "start_time": "2025-03-10T16:01:48.892576Z"
    }
   },
   "outputs": [],
   "execution_count": 105
  },
  {
   "cell_type": "code",
   "source": "ratings",
   "metadata": {
    "trusted": true,
    "ExecuteTime": {
     "end_time": "2025-03-10T16:01:50.004253Z",
     "start_time": "2025-03-10T16:01:49.997511Z"
    }
   },
   "outputs": [
    {
     "data": {
      "text/plain": [
       "0          NaN\n",
       "1          NaN\n",
       "2          NaN\n",
       "3          5.0\n",
       "4          5.0\n",
       "          ... \n",
       "1532993    NaN\n",
       "1532994    NaN\n",
       "1532995    5.0\n",
       "1532996    5.0\n",
       "1532997    4.0\n",
       "Name: rating, Length: 1532998, dtype: Sparse[float32, nan]"
      ]
     },
     "execution_count": 106,
     "metadata": {},
     "output_type": "execute_result"
    }
   ],
   "execution_count": 106
  },
  {
   "cell_type": "code",
   "source": "num_bytes_sparse = ratings.memory_usage(deep=True)\nnum_bytes_format(num_bytes_sparse)",
   "metadata": {
    "trusted": true,
    "ExecuteTime": {
     "end_time": "2025-03-10T16:01:52.448108Z",
     "start_time": "2025-03-10T16:01:52.442850Z"
    }
   },
   "outputs": [
    {
     "data": {
      "text/plain": [
       "'2.2830 Mb'"
      ]
     },
     "execution_count": 107,
     "metadata": {},
     "output_type": "execute_result"
    }
   ],
   "execution_count": 107
  },
  {
   "cell_type": "code",
   "source": "print(f'Экономия sparse относительно Int8DType: {(1 - num_bytes_sparse / num_bytes_Int8) * 100:.2f}%')\nprint(f'Экономия sparse относительно float32: {(1 - num_bytes_sparse / num_bytes_float) * 100:.2f}%')",
   "metadata": {
    "trusted": true,
    "ExecuteTime": {
     "end_time": "2025-03-10T16:01:57.787204Z",
     "start_time": "2025-03-10T16:01:57.783250Z"
    }
   },
   "outputs": [
    {
     "name": "stdout",
     "output_type": "stream",
     "text": [
      "Экономия sparse относительно Int8DType: 25.54%\n",
      "Экономия sparse относительно float32: 62.77%\n"
     ]
    }
   ],
   "execution_count": 108
  },
  {
   "cell_type": "code",
   "source": "ratings.sparse.density",
   "metadata": {
    "trusted": true
   },
   "outputs": [],
   "execution_count": null
  },
  {
   "cell_type": "markdown",
   "source": "<a id=\"scipy\"></a>\n# SciPy.Sparse\n\n\n<a id=\"matrix-types\"></a>\n## Matrix types\n\n[Sparse matrix](https://docs.scipy.org/doc/scipy/reference/sparse.html) - разреженная матрица, которая хранит только известные значения.\n\nВиды разреженных матриц в scipy.sparse:\n* **coo_matrix** - A sparse matrix in COOrdinate format\n* **csc_matrix** - Compressed Sparse Column matrix\n* **csr_matrix** - Compressed Sparse Row matrix\n* **bsr_matrix** - Block Sparse Row matrix\n* **dia_matrix** - Sparse matrix with DIAgonal storage\n* **dok_matrix** - Dictionary Of Keys based sparse matrix\n* **lil_matrix** - Row-based list of lists sparse matrix\n\nИх можно разделить на две группы:\n* Классы для создания матриц\n  * coo_matrix - тройки (строка, столбец, значение)\n  * dok_matrix - словарь, где ключ - кортеж из строки и столбца, а значение - это значение :)\n  * lil_matrix - список из списков, где внутренние списки - это строки\n* Классы оптимизированные под оптимальное хранение и операции над матрицами\n  * csr_matrix - сжатое построчное представление\n  * csc_matrix - сжатое представление по столбцам\n  * bsr_matrix - как csr_matrix, только хранятся \"плотные блоки\"\n  * dia_matrix - диагональное представление\n  \n \nНа практике чаще всего встречаются coo_matrix, csr_matrix и csc_matrix ",
   "metadata": {}
  },
  {
   "cell_type": "markdown",
   "source": "### coo_matrix\n\n",
   "metadata": {}
  },
  {
   "cell_type": "code",
   "source": "rows =   [1,  1, 0,  4,   2, 2]\ncols =   [0,  1, 0,  5,   3, 3]\nvalues = [-2, 7, 19, 1.0, 6, 8]\n\ncoo = sp.coo_matrix((values, (rows, cols)))\ncoo",
   "metadata": {
    "trusted": true,
    "ExecuteTime": {
     "end_time": "2025-03-10T16:04:37.364214Z",
     "start_time": "2025-03-10T16:04:37.355880Z"
    }
   },
   "outputs": [
    {
     "data": {
      "text/plain": [
       "<5x6 sparse matrix of type '<class 'numpy.float64'>'\n",
       "\twith 6 stored elements in COOrdinate format>"
      ]
     },
     "execution_count": 109,
     "metadata": {},
     "output_type": "execute_result"
    }
   ],
   "execution_count": 109
  },
  {
   "cell_type": "code",
   "source": "coo.todense()",
   "metadata": {
    "trusted": true,
    "ExecuteTime": {
     "end_time": "2025-03-10T16:04:39.653896Z",
     "start_time": "2025-03-10T16:04:39.648206Z"
    }
   },
   "outputs": [
    {
     "data": {
      "text/plain": [
       "matrix([[19.,  0.,  0.,  0.,  0.,  0.],\n",
       "        [-2.,  7.,  0.,  0.,  0.,  0.],\n",
       "        [ 0.,  0.,  0., 14.,  0.,  0.],\n",
       "        [ 0.,  0.,  0.,  0.,  0.,  0.],\n",
       "        [ 0.,  0.,  0.,  0.,  0.,  1.]])"
      ]
     },
     "execution_count": 110,
     "metadata": {},
     "output_type": "execute_result"
    }
   ],
   "execution_count": 110
  },
  {
   "cell_type": "code",
   "source": "coo.row, coo.col, coo.data",
   "metadata": {
    "trusted": true,
    "ExecuteTime": {
     "end_time": "2025-03-10T16:04:40.809249Z",
     "start_time": "2025-03-10T16:04:40.804041Z"
    }
   },
   "outputs": [
    {
     "data": {
      "text/plain": [
       "(array([1, 1, 0, 4, 2, 2], dtype=int32),\n",
       " array([0, 1, 0, 5, 3, 3], dtype=int32),\n",
       " array([-2.,  7., 19.,  1.,  6.,  8.]))"
      ]
     },
     "execution_count": 111,
     "metadata": {},
     "output_type": "execute_result"
    }
   ],
   "execution_count": 111
  },
  {
   "cell_type": "markdown",
   "source": "### csr_matrix/csc_matrix",
   "metadata": {}
  },
  {
   "cell_type": "code",
   "source": "csr = coo.tocsr()\ncsr",
   "metadata": {
    "trusted": true,
    "ExecuteTime": {
     "end_time": "2025-03-10T16:04:52.970851Z",
     "start_time": "2025-03-10T16:04:52.965489Z"
    }
   },
   "outputs": [
    {
     "data": {
      "text/plain": [
       "<5x6 sparse matrix of type '<class 'numpy.float64'>'\n",
       "\twith 5 stored elements in Compressed Sparse Row format>"
      ]
     },
     "execution_count": 112,
     "metadata": {},
     "output_type": "execute_result"
    }
   ],
   "execution_count": 112
  },
  {
   "cell_type": "code",
   "source": "csr.todense()",
   "metadata": {
    "trusted": true,
    "ExecuteTime": {
     "end_time": "2025-03-10T16:04:55.496431Z",
     "start_time": "2025-03-10T16:04:55.490991Z"
    }
   },
   "outputs": [
    {
     "data": {
      "text/plain": [
       "matrix([[19.,  0.,  0.,  0.,  0.,  0.],\n",
       "        [-2.,  7.,  0.,  0.,  0.,  0.],\n",
       "        [ 0.,  0.,  0., 14.,  0.,  0.],\n",
       "        [ 0.,  0.,  0.,  0.,  0.,  0.],\n",
       "        [ 0.,  0.,  0.,  0.,  0.,  1.]])"
      ]
     },
     "execution_count": 113,
     "metadata": {},
     "output_type": "execute_result"
    }
   ],
   "execution_count": 113
  },
  {
   "cell_type": "code",
   "source": "csr.indptr, csr.indices, csr.data",
   "metadata": {
    "trusted": true,
    "ExecuteTime": {
     "end_time": "2025-03-10T16:05:31.730437Z",
     "start_time": "2025-03-10T16:05:31.725312Z"
    }
   },
   "outputs": [
    {
     "data": {
      "text/plain": [
       "(array([0, 1, 3, 4, 4, 5], dtype=int32),\n",
       " array([0, 0, 1, 3, 5], dtype=int32),\n",
       " array([19., -2.,  7., 14.,  1.]))"
      ]
     },
     "execution_count": 114,
     "metadata": {},
     "output_type": "execute_result"
    }
   ],
   "execution_count": 114
  },
  {
   "cell_type": "markdown",
   "source": "* indptr - указатели, которые рассматриваются парами. Имеют два значения:\n    * Индекс пары - номер строки \n    * Значения пары - начало и конец строки в data и indices\n* indices - номер столбца\n* data - значение\n\nКак это работает:\n* indptr -> (1, 3) -> 1-ая строка.\n* 3 - 1 = 2 -> кол-во заполненных значений\n* indices[1:3] = (0, 1) -> столбцы 2 значений\n* data[1:3] = (-2, 7) -> сами значения\n* -2 -> (1, 0)\n* 7  -> (1, 1)\n\n",
   "metadata": {}
  },
  {
   "cell_type": "code",
   "source": "csc = coo.tocsc()\ncsc",
   "metadata": {
    "trusted": true,
    "ExecuteTime": {
     "end_time": "2025-03-10T16:05:37.250085Z",
     "start_time": "2025-03-10T16:05:37.243848Z"
    }
   },
   "outputs": [
    {
     "data": {
      "text/plain": [
       "<5x6 sparse matrix of type '<class 'numpy.float64'>'\n",
       "\twith 5 stored elements in Compressed Sparse Column format>"
      ]
     },
     "execution_count": 115,
     "metadata": {},
     "output_type": "execute_result"
    }
   ],
   "execution_count": 115
  },
  {
   "cell_type": "code",
   "source": "csc.todense()",
   "metadata": {
    "trusted": true,
    "ExecuteTime": {
     "end_time": "2025-03-10T16:05:37.883904Z",
     "start_time": "2025-03-10T16:05:37.878852Z"
    }
   },
   "outputs": [
    {
     "data": {
      "text/plain": [
       "matrix([[19.,  0.,  0.,  0.,  0.,  0.],\n",
       "        [-2.,  7.,  0.,  0.,  0.,  0.],\n",
       "        [ 0.,  0.,  0., 14.,  0.,  0.],\n",
       "        [ 0.,  0.,  0.,  0.,  0.,  0.],\n",
       "        [ 0.,  0.,  0.,  0.,  0.,  1.]])"
      ]
     },
     "execution_count": 116,
     "metadata": {},
     "output_type": "execute_result"
    }
   ],
   "execution_count": 116
  },
  {
   "cell_type": "code",
   "source": "csc.indptr, csc.indices, csc.data",
   "metadata": {
    "trusted": true,
    "ExecuteTime": {
     "end_time": "2025-03-10T16:05:38.596724Z",
     "start_time": "2025-03-10T16:05:38.591074Z"
    }
   },
   "outputs": [
    {
     "data": {
      "text/plain": [
       "(array([0, 2, 3, 3, 4, 4, 5], dtype=int32),\n",
       " array([0, 1, 1, 2, 4], dtype=int32),\n",
       " array([19., -2.,  7., 14.,  1.]))"
      ]
     },
     "execution_count": 117,
     "metadata": {},
     "output_type": "execute_result"
    }
   ],
   "execution_count": 117
  },
  {
   "cell_type": "markdown",
   "source": [
    "<a id=\"pandas-to-matrix\"></a>\n",
    "## Pandas to matrix\n",
    "\n",
    "Для создания разреженной матрицы из dataframe с взаимодействиям нужно вначале определить соответствия между user/item ID и номерами строк/столбцов.\n",
    "\n",
    "По сути, мы просто должны пронумеровать (начиная с 0) все уникальные ID."
   ],
   "metadata": {}
  },
  {
   "cell_type": "code",
   "source": "df.head()",
   "metadata": {
    "trusted": true,
    "ExecuteTime": {
     "end_time": "2025-03-10T16:06:08.547762Z",
     "start_time": "2025-03-10T16:06:08.537795Z"
    }
   },
   "outputs": [
    {
     "data": {
      "text/plain": [
       "    user_id   item_id  progress  rating start_date\n",
       "0  126706.0   14433.0        80     NaN 2018-01-01\n",
       "1  127290.0  140952.0        58     NaN 2018-01-01\n",
       "2   66991.0  198453.0        89     NaN 2018-01-01\n",
       "3   46791.0   83486.0        23     5.0 2018-01-01\n",
       "4   79313.0  188770.0        88     5.0 2018-01-01"
      ],
      "text/html": [
       "<div>\n",
       "<style scoped>\n",
       "    .dataframe tbody tr th:only-of-type {\n",
       "        vertical-align: middle;\n",
       "    }\n",
       "\n",
       "    .dataframe tbody tr th {\n",
       "        vertical-align: top;\n",
       "    }\n",
       "\n",
       "    .dataframe thead th {\n",
       "        text-align: right;\n",
       "    }\n",
       "</style>\n",
       "<table border=\"1\" class=\"dataframe\">\n",
       "  <thead>\n",
       "    <tr style=\"text-align: right;\">\n",
       "      <th></th>\n",
       "      <th>user_id</th>\n",
       "      <th>item_id</th>\n",
       "      <th>progress</th>\n",
       "      <th>rating</th>\n",
       "      <th>start_date</th>\n",
       "    </tr>\n",
       "  </thead>\n",
       "  <tbody>\n",
       "    <tr>\n",
       "      <th>0</th>\n",
       "      <td>126706.0</td>\n",
       "      <td>14433.0</td>\n",
       "      <td>80</td>\n",
       "      <td>NaN</td>\n",
       "      <td>2018-01-01</td>\n",
       "    </tr>\n",
       "    <tr>\n",
       "      <th>1</th>\n",
       "      <td>127290.0</td>\n",
       "      <td>140952.0</td>\n",
       "      <td>58</td>\n",
       "      <td>NaN</td>\n",
       "      <td>2018-01-01</td>\n",
       "    </tr>\n",
       "    <tr>\n",
       "      <th>2</th>\n",
       "      <td>66991.0</td>\n",
       "      <td>198453.0</td>\n",
       "      <td>89</td>\n",
       "      <td>NaN</td>\n",
       "      <td>2018-01-01</td>\n",
       "    </tr>\n",
       "    <tr>\n",
       "      <th>3</th>\n",
       "      <td>46791.0</td>\n",
       "      <td>83486.0</td>\n",
       "      <td>23</td>\n",
       "      <td>5.0</td>\n",
       "      <td>2018-01-01</td>\n",
       "    </tr>\n",
       "    <tr>\n",
       "      <th>4</th>\n",
       "      <td>79313.0</td>\n",
       "      <td>188770.0</td>\n",
       "      <td>88</td>\n",
       "      <td>5.0</td>\n",
       "      <td>2018-01-01</td>\n",
       "    </tr>\n",
       "  </tbody>\n",
       "</table>\n",
       "</div>"
      ]
     },
     "execution_count": 118,
     "metadata": {},
     "output_type": "execute_result"
    }
   ],
   "execution_count": 118
  },
  {
   "cell_type": "code",
   "source": "df.info()",
   "metadata": {
    "trusted": true,
    "ExecuteTime": {
     "end_time": "2025-03-10T16:06:08.868931Z",
     "start_time": "2025-03-10T16:06:08.806791Z"
    }
   },
   "outputs": [
    {
     "name": "stdout",
     "output_type": "stream",
     "text": [
      "<class 'pandas.core.frame.DataFrame'>\n",
      "RangeIndex: 1532998 entries, 0 to 1532997\n",
      "Data columns (total 5 columns):\n",
      " #   Column      Non-Null Count    Dtype         \n",
      "---  ------      --------------    -----         \n",
      " 0   user_id     1532918 non-null  float64       \n",
      " 1   item_id     1532918 non-null  float64       \n",
      " 2   progress    1532998 non-null  int64         \n",
      " 3   rating      285355 non-null   float64       \n",
      " 4   start_date  1532998 non-null  datetime64[ns]\n",
      "dtypes: datetime64[ns](1), float64(3), int64(1)\n",
      "memory usage: 58.5 MB\n"
     ]
    }
   ],
   "execution_count": 119
  },
  {
   "cell_type": "code",
   "source": "df.nunique()",
   "metadata": {
    "trusted": true,
    "ExecuteTime": {
     "end_time": "2025-03-10T16:06:09.279648Z",
     "start_time": "2025-03-10T16:06:09.078226Z"
    }
   },
   "outputs": [
    {
     "data": {
      "text/plain": [
       "user_id       151600\n",
       "item_id        59599\n",
       "progress         101\n",
       "rating             5\n",
       "start_date       730\n",
       "dtype: int64"
      ]
     },
     "execution_count": 120,
     "metadata": {},
     "output_type": "execute_result"
    }
   ],
   "execution_count": 120
  },
  {
   "cell_type": "markdown",
   "source": "* users_mapping - конвертация ID в номер строки\n* users_inv_mapping - номер строки в ID",
   "metadata": {}
  },
  {
   "cell_type": "code",
   "source": "users_inv_mapping = dict(enumerate(df['user_id'].unique()))\nusers_mapping = {v: k for k, v in users_inv_mapping.items()}\nlen(users_mapping)",
   "metadata": {
    "trusted": true,
    "ExecuteTime": {
     "end_time": "2025-03-10T16:06:17.140534Z",
     "start_time": "2025-03-10T16:06:17.043365Z"
    }
   },
   "outputs": [
    {
     "data": {
      "text/plain": [
       "151601"
      ]
     },
     "execution_count": 121,
     "metadata": {},
     "output_type": "execute_result"
    }
   ],
   "execution_count": 121
  },
  {
   "cell_type": "code",
   "source": "users_mapping[126706], users_inv_mapping[0]",
   "metadata": {
    "trusted": true,
    "ExecuteTime": {
     "end_time": "2025-03-10T16:08:53.727648Z",
     "start_time": "2025-03-10T16:08:53.722558Z"
    }
   },
   "outputs": [
    {
     "data": {
      "text/plain": [
       "(0, np.float64(126706.0))"
      ]
     },
     "execution_count": 122,
     "metadata": {},
     "output_type": "execute_result"
    }
   ],
   "execution_count": 122
  },
  {
   "cell_type": "code",
   "source": "items_inv_mapping = dict(enumerate(df['item_id'].unique()))\nitems_mapping = {v: k for k, v in items_inv_mapping.items()}\nlen(items_mapping)",
   "metadata": {
    "trusted": true,
    "ExecuteTime": {
     "end_time": "2025-03-10T16:10:16.645339Z",
     "start_time": "2025-03-10T16:10:16.592940Z"
    }
   },
   "outputs": [
    {
     "data": {
      "text/plain": [
       "59600"
      ]
     },
     "execution_count": 123,
     "metadata": {},
     "output_type": "execute_result"
    }
   ],
   "execution_count": 123
  },
  {
   "cell_type": "code",
   "source": "items_mapping[14433], items_inv_mapping[0]",
   "metadata": {
    "trusted": true,
    "ExecuteTime": {
     "end_time": "2025-03-10T16:11:03.492604Z",
     "start_time": "2025-03-10T16:11:03.487308Z"
    }
   },
   "outputs": [
    {
     "data": {
      "text/plain": [
       "(0, np.float64(14433.0))"
      ]
     },
     "execution_count": 124,
     "metadata": {},
     "output_type": "execute_result"
    }
   ],
   "execution_count": 124
  },
  {
   "cell_type": "markdown",
   "source": "Имея данные отображения в виде словарей, мы теперь можем легко конвертировать наши столбцы user_id и item_id в массивы строк и столбцов и закинуть их в coo_matrix",
   "metadata": {}
  },
  {
   "cell_type": "code",
   "source": "rows = df['user_id'].map(users_mapping.get)\ncols = df['item_id'].map(items_mapping.get)\n\nrows.isna().sum(), cols.isna().sum()",
   "metadata": {
    "trusted": true,
    "ExecuteTime": {
     "end_time": "2025-03-10T16:11:08.449049Z",
     "start_time": "2025-03-10T16:11:06.765554Z"
    }
   },
   "outputs": [
    {
     "data": {
      "text/plain": [
       "(np.int64(80), np.int64(80))"
      ]
     },
     "execution_count": 125,
     "metadata": {},
     "output_type": "execute_result"
    }
   ],
   "execution_count": 125
  },
  {
   "cell_type": "markdown",
   "source": "Заполняем единицей (аля implicit feedback)",
   "metadata": {}
  },
  {
   "cell_type": "code",
   "source": "coo = sp.coo_matrix((\n    np.ones(df.shape[0], dtype=np.int8),\n    (rows, cols)\n))\ncoo",
   "metadata": {
    "trusted": true,
    "ExecuteTime": {
     "end_time": "2025-03-10T16:11:22.405671Z",
     "start_time": "2025-03-10T16:11:22.234621Z"
    }
   },
   "outputs": [
    {
     "ename": "TypeError",
     "evalue": "'numpy.float64' object cannot be interpreted as an integer",
     "output_type": "error",
     "traceback": [
      "\u001B[0;31m---------------------------------------------------------------------------\u001B[0m",
      "\u001B[0;31mTypeError\u001B[0m                                 Traceback (most recent call last)",
      "Cell \u001B[0;32mIn[126], line 1\u001B[0m\n\u001B[0;32m----> 1\u001B[0m coo \u001B[38;5;241m=\u001B[39m \u001B[43msp\u001B[49m\u001B[38;5;241;43m.\u001B[39;49m\u001B[43mcoo_matrix\u001B[49m\u001B[43m(\u001B[49m\u001B[43m(\u001B[49m\n\u001B[1;32m      2\u001B[0m \u001B[43m    \u001B[49m\u001B[43mnp\u001B[49m\u001B[38;5;241;43m.\u001B[39;49m\u001B[43mones\u001B[49m\u001B[43m(\u001B[49m\u001B[43mdf\u001B[49m\u001B[38;5;241;43m.\u001B[39;49m\u001B[43mshape\u001B[49m\u001B[43m[\u001B[49m\u001B[38;5;241;43m0\u001B[39;49m\u001B[43m]\u001B[49m\u001B[43m,\u001B[49m\u001B[43m \u001B[49m\u001B[43mdtype\u001B[49m\u001B[38;5;241;43m=\u001B[39;49m\u001B[43mnp\u001B[49m\u001B[38;5;241;43m.\u001B[39;49m\u001B[43mint8\u001B[49m\u001B[43m)\u001B[49m\u001B[43m,\u001B[49m\n\u001B[1;32m      3\u001B[0m \u001B[43m    \u001B[49m\u001B[43m(\u001B[49m\u001B[43mrows\u001B[49m\u001B[43m,\u001B[49m\u001B[43m \u001B[49m\u001B[43mcols\u001B[49m\u001B[43m)\u001B[49m\n\u001B[1;32m      4\u001B[0m \u001B[43m)\u001B[49m\u001B[43m)\u001B[49m\n\u001B[1;32m      5\u001B[0m coo\n",
      "File \u001B[0;32m~/PycharmProjects/MTSRecSys/.venv/lib/python3.9/site-packages/scipy/sparse/_coo.py:52\u001B[0m, in \u001B[0;36m_coo_base.__init__\u001B[0;34m(self, arg1, shape, dtype, copy)\u001B[0m\n\u001B[1;32m     49\u001B[0m     \u001B[38;5;28;01mif\u001B[39;00m \u001B[38;5;28many\u001B[39m(\u001B[38;5;28mlen\u001B[39m(idx) \u001B[38;5;241m==\u001B[39m \u001B[38;5;241m0\u001B[39m \u001B[38;5;28;01mfor\u001B[39;00m idx \u001B[38;5;129;01min\u001B[39;00m coords):\n\u001B[1;32m     50\u001B[0m         \u001B[38;5;28;01mraise\u001B[39;00m \u001B[38;5;167;01mValueError\u001B[39;00m(\u001B[38;5;124m'\u001B[39m\u001B[38;5;124mcannot infer dimensions from zero \u001B[39m\u001B[38;5;124m'\u001B[39m\n\u001B[1;32m     51\u001B[0m                          \u001B[38;5;124m'\u001B[39m\u001B[38;5;124msized index arrays\u001B[39m\u001B[38;5;124m'\u001B[39m)\n\u001B[0;32m---> 52\u001B[0m     shape \u001B[38;5;241m=\u001B[39m \u001B[38;5;28;43mtuple\u001B[39;49m\u001B[43m(\u001B[49m\u001B[43moperator\u001B[49m\u001B[38;5;241;43m.\u001B[39;49m\u001B[43mindex\u001B[49m\u001B[43m(\u001B[49m\u001B[43mnp\u001B[49m\u001B[38;5;241;43m.\u001B[39;49m\u001B[43mmax\u001B[49m\u001B[43m(\u001B[49m\u001B[43midx\u001B[49m\u001B[43m)\u001B[49m\u001B[43m)\u001B[49m\u001B[43m \u001B[49m\u001B[38;5;241;43m+\u001B[39;49m\u001B[43m \u001B[49m\u001B[38;5;241;43m1\u001B[39;49m\n\u001B[1;32m     53\u001B[0m \u001B[43m                  \u001B[49m\u001B[38;5;28;43;01mfor\u001B[39;49;00m\u001B[43m \u001B[49m\u001B[43midx\u001B[49m\u001B[43m \u001B[49m\u001B[38;5;129;43;01min\u001B[39;49;00m\u001B[43m \u001B[49m\u001B[43mcoords\u001B[49m\u001B[43m)\u001B[49m\n\u001B[1;32m     54\u001B[0m \u001B[38;5;28mself\u001B[39m\u001B[38;5;241m.\u001B[39m_shape \u001B[38;5;241m=\u001B[39m check_shape(shape, allow_1d\u001B[38;5;241m=\u001B[39mis_array)\n\u001B[1;32m     56\u001B[0m idx_dtype \u001B[38;5;241m=\u001B[39m \u001B[38;5;28mself\u001B[39m\u001B[38;5;241m.\u001B[39m_get_index_dtype(coords,\n\u001B[1;32m     57\u001B[0m                                   maxval\u001B[38;5;241m=\u001B[39m\u001B[38;5;28mmax\u001B[39m(\u001B[38;5;28mself\u001B[39m\u001B[38;5;241m.\u001B[39mshape),\n\u001B[1;32m     58\u001B[0m                                   check_contents\u001B[38;5;241m=\u001B[39m\u001B[38;5;28;01mTrue\u001B[39;00m)\n",
      "File \u001B[0;32m~/PycharmProjects/MTSRecSys/.venv/lib/python3.9/site-packages/scipy/sparse/_coo.py:52\u001B[0m, in \u001B[0;36m<genexpr>\u001B[0;34m(.0)\u001B[0m\n\u001B[1;32m     49\u001B[0m     \u001B[38;5;28;01mif\u001B[39;00m \u001B[38;5;28many\u001B[39m(\u001B[38;5;28mlen\u001B[39m(idx) \u001B[38;5;241m==\u001B[39m \u001B[38;5;241m0\u001B[39m \u001B[38;5;28;01mfor\u001B[39;00m idx \u001B[38;5;129;01min\u001B[39;00m coords):\n\u001B[1;32m     50\u001B[0m         \u001B[38;5;28;01mraise\u001B[39;00m \u001B[38;5;167;01mValueError\u001B[39;00m(\u001B[38;5;124m'\u001B[39m\u001B[38;5;124mcannot infer dimensions from zero \u001B[39m\u001B[38;5;124m'\u001B[39m\n\u001B[1;32m     51\u001B[0m                          \u001B[38;5;124m'\u001B[39m\u001B[38;5;124msized index arrays\u001B[39m\u001B[38;5;124m'\u001B[39m)\n\u001B[0;32m---> 52\u001B[0m     shape \u001B[38;5;241m=\u001B[39m \u001B[38;5;28mtuple\u001B[39m(\u001B[43moperator\u001B[49m\u001B[38;5;241;43m.\u001B[39;49m\u001B[43mindex\u001B[49m\u001B[43m(\u001B[49m\u001B[43mnp\u001B[49m\u001B[38;5;241;43m.\u001B[39;49m\u001B[43mmax\u001B[49m\u001B[43m(\u001B[49m\u001B[43midx\u001B[49m\u001B[43m)\u001B[49m\u001B[43m)\u001B[49m \u001B[38;5;241m+\u001B[39m \u001B[38;5;241m1\u001B[39m\n\u001B[1;32m     53\u001B[0m                   \u001B[38;5;28;01mfor\u001B[39;00m idx \u001B[38;5;129;01min\u001B[39;00m coords)\n\u001B[1;32m     54\u001B[0m \u001B[38;5;28mself\u001B[39m\u001B[38;5;241m.\u001B[39m_shape \u001B[38;5;241m=\u001B[39m check_shape(shape, allow_1d\u001B[38;5;241m=\u001B[39mis_array)\n\u001B[1;32m     56\u001B[0m idx_dtype \u001B[38;5;241m=\u001B[39m \u001B[38;5;28mself\u001B[39m\u001B[38;5;241m.\u001B[39m_get_index_dtype(coords,\n\u001B[1;32m     57\u001B[0m                                   maxval\u001B[38;5;241m=\u001B[39m\u001B[38;5;28mmax\u001B[39m(\u001B[38;5;28mself\u001B[39m\u001B[38;5;241m.\u001B[39mshape),\n\u001B[1;32m     58\u001B[0m                                   check_contents\u001B[38;5;241m=\u001B[39m\u001B[38;5;28;01mTrue\u001B[39;00m)\n",
      "\u001B[0;31mTypeError\u001B[0m: 'numpy.float64' object cannot be interpreted as an integer"
     ]
    }
   ],
   "execution_count": 126
  },
  {
   "cell_type": "code",
   "source": "num_bytes_format(coo.data.nbytes + coo.row.nbytes + coo.col.nbytes)",
   "metadata": {
    "trusted": true
   },
   "outputs": [],
   "execution_count": null
  },
  {
   "cell_type": "markdown",
   "source": "Или значением из dataframe. Придумаем страшную формулу для взвешивания каждого взаимодействия на основе оценки и проценту прочитанного.",
   "metadata": {}
  },
  {
   "cell_type": "code",
   "source": "df['weight'] = ((df['progress'] + 1) / 101) * (2 ** df['rating'])\ndf['weight'] = df['weight'].astype(np.float32)",
   "metadata": {
    "trusted": true
   },
   "outputs": [],
   "execution_count": null
  },
  {
   "cell_type": "code",
   "source": "ax = df['weight'].plot.hist()",
   "metadata": {
    "trusted": true
   },
   "outputs": [],
   "execution_count": null
  },
  {
   "cell_type": "code",
   "source": "coo = sp.coo_matrix((\n    df['weight'],\n    (rows, cols)\n))\ncoo",
   "metadata": {
    "trusted": true
   },
   "outputs": [],
   "execution_count": null
  },
  {
   "cell_type": "code",
   "source": "num_bytes_format(coo.data.nbytes + coo.row.nbytes + coo.col.nbytes)",
   "metadata": {
    "trusted": true
   },
   "outputs": [],
   "execution_count": null
  },
  {
   "cell_type": "markdown",
   "source": "<a id=\"links\"></a>\n# Links\n* https://medium.com/@aakashgoel12/pandas-optimize-memory-and-speed-operation-17d8a66c8be4 - отличный гайд по эффективному использованию Pandas\n* https://matteding.github.io/2019/04/25/sparse-matrices/ - шикарные визуализации разреженных матриц\n* https://rushter.com/blog/scipy-sparse-matrices/ - еще один хороший разбор разреженных матриц",
   "metadata": {}
  }
 ]
}
